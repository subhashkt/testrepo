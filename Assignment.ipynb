{
 "cells": [
  {
   "cell_type": "markdown",
   "id": "9e49495f-af5f-43e4-a4f4-2b5cc20d6c0e",
   "metadata": {},
   "source": [
    "# My Jupyter Notebook On IBM Watson Studio"
   ]
  },
  {
   "cell_type": "markdown",
   "id": "0c95b1a6-93a7-4c06-8fdb-8629b75aac5a",
   "metadata": {},
   "source": [
    "__Subhash Kumawat__"
   ]
  },
  {
   "cell_type": "markdown",
   "id": "1bfb2531-ce6c-4d44-9737-3a27d93b7ab7",
   "metadata": {},
   "source": [
    "Desired Occupation Is"
   ]
  },
  {
   "cell_type": "markdown",
   "id": "caf114d2-3432-4b05-bf30-dcce18c97f5d",
   "metadata": {},
   "source": [
    "_I am interested in data science because I enjoy problem solving and passionate about data_"
   ]
  },
  {
   "cell_type": "markdown",
   "id": "be1e820a-3d28-47fa-8a60-c1133ac1149c",
   "metadata": {
    "tags": []
   },
   "source": [
    "### My Code is Supposed to Add 2+2"
   ]
  },
  {
   "cell_type": "code",
   "execution_count": 1,
   "id": "8cb5bfa2-0d2a-4380-b763-3c3c56e469e7",
   "metadata": {},
   "outputs": [
    {
     "data": {
      "text/plain": [
       "4"
      ]
     },
     "execution_count": 1,
     "metadata": {},
     "output_type": "execute_result"
    }
   ],
   "source": [
    "2+2"
   ]
  },
  {
   "cell_type": "markdown",
   "id": "b5d34cca-5e5e-4d92-b816-0038b67e446d",
   "metadata": {},
   "source": [
    "- one"
   ]
  },
  {
   "cell_type": "markdown",
   "id": "9b872017-42b3-4196-be4a-4bd538fba92e",
   "metadata": {},
   "source": [
    "- two"
   ]
  },
  {
   "cell_type": "markdown",
   "id": "75e30d52-e01a-4b61-b7a2-79bb4f4905ee",
   "metadata": {},
   "source": [
    "1. "
   ]
  },
  {
   "cell_type": "markdown",
   "id": "826ea4bf-16cf-44c9-b09d-035db4f02f96",
   "metadata": {},
   "source": [
    "2. "
   ]
  },
  {
   "cell_type": "markdown",
   "id": "26579df0-dddc-45fe-897d-326c0a6ab308",
   "metadata": {},
   "source": [
    "***"
   ]
  }
 ],
 "metadata": {
  "kernelspec": {
   "display_name": "Python",
   "language": "python",
   "name": "conda-env-python-py"
  },
  "language_info": {
   "codemirror_mode": {
    "name": "ipython",
    "version": 3
   },
   "file_extension": ".py",
   "mimetype": "text/x-python",
   "name": "python",
   "nbconvert_exporter": "python",
   "pygments_lexer": "ipython3",
   "version": "3.7.12"
  }
 },
 "nbformat": 4,
 "nbformat_minor": 5
}
